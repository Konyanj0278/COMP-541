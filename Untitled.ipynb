{
 "cells": [
  {
   "cell_type": "code",
   "execution_count": null,
   "id": "8279312c",
   "metadata": {},
   "outputs": [],
   "source": [
    "import pandas as pd\n",
    "from pandas import set_option\n",
    "import seaborn as sns\n",
    "import matplotlib.pyplot as plt"
   ]
  },
  {
   "cell_type": "code",
   "execution_count": null,
   "id": "24897481",
   "metadata": {},
   "outputs": [],
   "source": [
    "df = pd.read_csv('dataset.csv')\n"
   ]
  },
  {
   "cell_type": "code",
   "execution_count": null,
   "id": "7e2f33c3",
   "metadata": {},
   "outputs": [],
   "source": [
    "df.head(10)"
   ]
  },
  {
   "cell_type": "code",
   "execution_count": null,
   "id": "a5af1a29",
   "metadata": {
    "scrolled": true
   },
   "outputs": [],
   "source": [
    "df.describe()"
   ]
  },
  {
   "cell_type": "code",
   "execution_count": null,
   "id": "bf656ca7",
   "metadata": {},
   "outputs": [],
   "source": [
    "df.count()"
   ]
  },
  {
   "cell_type": "code",
   "execution_count": null,
   "id": "f5ca56a9",
   "metadata": {},
   "outputs": [],
   "source": [
    "df.mode()"
   ]
  },
  {
   "cell_type": "code",
   "execution_count": null,
   "id": "835a5619",
   "metadata": {},
   "outputs": [],
   "source": [
    "Q1= df.quantile(0.25)\n",
    "Q3= df.quantile(0.75)\n",
    "IQR= Q3-Q1\n",
    "IQR"
   ]
  },
  {
   "cell_type": "code",
   "execution_count": null,
   "id": "e7862d3e",
   "metadata": {},
   "outputs": [],
   "source": [
    "#sns.kdeplot(df['ADDRESS'])\n",
    "#sns.kdeplot(df['CITY'])\n",
    "#sns.kdeplot(df['ZIP OR POSTAL CODE'])\n",
    "#sns.kdeplot(df['BEDS'])\n",
    "#sns.kdeplot(df['PRICE'])\n",
    "#sns.kdeplot(df['BATHS'])\n",
    "#sns.kdeplot(df['LOT SIZE'])\n",
    "#sns.kdeplot(df['$/SQUARE FEET'])\n",
    "sns.kdeplot(df['HOA/MONTH'])"
   ]
  },
  {
   "cell_type": "code",
   "execution_count": null,
   "id": "64e7d4fe",
   "metadata": {},
   "outputs": [],
   "source": [
    "skew=df.skew()\n",
    "skew"
   ]
  },
  {
   "cell_type": "code",
   "execution_count": null,
   "id": "3efdad8c",
   "metadata": {},
   "outputs": [],
   "source": [
    "class_counts= df.groupby('LOT SIZE').size()\n",
    "class_counts"
   ]
  },
  {
   "cell_type": "code",
   "execution_count": null,
   "id": "9c388524",
   "metadata": {},
   "outputs": [],
   "source": [
    "set_option('precision', 3)\n",
    "covariance= df.cov()\n",
    "covariance"
   ]
  },
  {
   "cell_type": "code",
   "execution_count": null,
   "id": "aafa076d",
   "metadata": {},
   "outputs": [],
   "source": [
    "set_option('precision', 3)\n",
    "correlations = df.corr(method= 'pearson')\n",
    "correlations"
   ]
  },
  {
   "cell_type": "code",
   "execution_count": null,
   "id": "9602b5f8",
   "metadata": {},
   "outputs": [],
   "source": [
    "plt.figure(figsize=(20,15))\n",
    "sns.heatmap(df.corr(), vmin=-1, vmax=1, cmap= \"YlGnBu\", annot= True)"
   ]
  },
  {
   "cell_type": "code",
   "execution_count": null,
   "id": "ccda64f4",
   "metadata": {},
   "outputs": [],
   "source": [
    "df.plot(x='PRICE', y='ZIP OR POSTAL CODE', kind= 'scatter')"
   ]
  },
  {
   "cell_type": "code",
   "execution_count": null,
   "id": "b400ecd7",
   "metadata": {},
   "outputs": [],
   "source": [
    "df.plot(x='PRICE', y='LOT SIZE', kind= 'scatter')"
   ]
  },
  {
   "cell_type": "code",
   "execution_count": null,
   "id": "77d2b5a8",
   "metadata": {},
   "outputs": [],
   "source": [
    "df.plot(x='PRICE', y='SQUARE FEET', kind= 'scatter')"
   ]
  },
  {
   "cell_type": "code",
   "execution_count": null,
   "id": "63684b4c",
   "metadata": {},
   "outputs": [],
   "source": [
    "table = pd.crosstab(df['PRICE'], df['SQUARE FEET'])"
   ]
  },
  {
   "cell_type": "code",
   "execution_count": null,
   "id": "308763cc",
   "metadata": {},
   "outputs": [],
   "source": [
    "table"
   ]
  },
  {
   "cell_type": "code",
   "execution_count": null,
   "id": "9531494e",
   "metadata": {},
   "outputs": [],
   "source": [
    "Observed_val= table.values\n",
    "Observed_val"
   ]
  },
  {
   "cell_type": "code",
   "execution_count": null,
   "id": "20d6b0d5",
   "metadata": {},
   "outputs": [],
   "source": [
    "import scipy.stats as sp\n",
    "from scipy.stats import chi2_contingency\n",
    "from scipy.stats import chi2\n",
    "\n",
    "chi2_test, p, dof, expected = sp.chi2_contingency(table)\n",
    "print('dof=%d'% dof)"
   ]
  },
  {
   "cell_type": "code",
   "execution_count": null,
   "id": "f434ba77",
   "metadata": {},
   "outputs": [],
   "source": [
    "prob =.95\n",
    "\n",
    "critical = chi2.ppf(prob, dof)\n",
    "round(critical,3)\n",
    "print('critical = %.3f, Chi2_test=%.3f' % (critical, chi2_test))"
   ]
  },
  {
   "cell_type": "code",
   "execution_count": null,
   "id": "35245c8c",
   "metadata": {},
   "outputs": [],
   "source": [
    "if chi2_test>= critical:\n",
    "    print(\"Dependent  reject H0\")\n",
    "else:\n",
    "    print(\"Independent fails to reject H0\")"
   ]
  },
  {
   "cell_type": "code",
   "execution_count": null,
   "id": "a88c64e9",
   "metadata": {},
   "outputs": [],
   "source": [
    "alpha = 1-prob\n",
    "print('signifigance is %.3f, p is %.3f' % (alpha,p))\n",
    "if p<= alpha:\n",
    "    print(\"Dependent  reject H0\")\n",
    "else:\n",
    "    print(\"Independent fails to reject H0\")"
   ]
  },
  {
   "cell_type": "code",
   "execution_count": null,
   "id": "72f0b36f",
   "metadata": {},
   "outputs": [],
   "source": []
  }
 ],
 "metadata": {
  "kernelspec": {
   "display_name": "Python 3",
   "language": "python",
   "name": "python3"
  },
  "language_info": {
   "codemirror_mode": {
    "name": "ipython",
    "version": 3
   },
   "file_extension": ".py",
   "mimetype": "text/x-python",
   "name": "python",
   "nbconvert_exporter": "python",
   "pygments_lexer": "ipython3",
   "version": "3.8.8"
  }
 },
 "nbformat": 4,
 "nbformat_minor": 5
}
